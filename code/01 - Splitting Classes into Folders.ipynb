{
 "cells": [
  {
   "cell_type": "code",
   "execution_count": 4,
   "id": "25c12090",
   "metadata": {},
   "outputs": [],
   "source": [
    "import pandas as pd\n",
    "import os\n",
    "from glob import glob\n",
    "import tarfile\n",
    "import shutil\n",
    "import librosa"
   ]
  },
  {
   "cell_type": "code",
   "execution_count": 5,
   "id": "5e5a066a",
   "metadata": {},
   "outputs": [
    {
     "name": "stdout",
     "output_type": "stream",
     "text": [
      "[]\n"
     ]
    }
   ],
   "source": [
    "audios = glob('../ravdess/ravdess/*/*.wav')\n",
    "print(audios)"
   ]
  },
  {
   "cell_type": "code",
   "execution_count": 6,
   "id": "cf4392fb",
   "metadata": {},
   "outputs": [],
   "source": [
    "for audio in audios:\n",
    "    if audio.split('-')[2]=='01':\n",
    "        shutil.move(audio, f\"data/neutral/{os.path.basename(audio)}\")\n",
    "    elif audio.split('-')[2]=='02':\n",
    "        shutil.move(audio, f\"data/calm/{os.path.basename(audio)}\")\n",
    "    elif audio.split('-')[2]=='03':\n",
    "        shutil.move(audio, f\"data/happy/{os.path.basename(audio)}\")\n",
    "    elif audio.split('-')[2]=='04':\n",
    "        shutil.move(audio, f\"data/sad/{os.path.basename(audio)}\")\n",
    "    elif audio.split('-')[2]=='05':\n",
    "        shutil.move(audio, f\"data/angry/{os.path.basename(audio)}\")\n",
    "    elif audio.split('-')[2]=='06':\n",
    "        shutil.move(audio, f\"data/fearful/{os.path.basename(audio)}\")\n",
    "    elif audio.split('-')[2]=='07':\n",
    "        shutil.move(audio, f\"data/disgust/{os.path.basename(audio)}\")\n",
    "    elif audio.split('-')[2]=='08':\n",
    "        shutil.move(audio, f\"data/surprised/{os.path.basename(audio)}\")"
   ]
  },
  {
   "cell_type": "code",
   "execution_count": 28,
   "id": "7797f082",
   "metadata": {},
   "outputs": [],
   "source": [
    "# checking if there are duplicated audios\n",
    "\n",
    "audios = glob('../data/*/*.wav')\n",
    "waves = []\n",
    "for audio in audios:\n",
    "    # librosa will load the audios as wv (numpy array)\n",
    "    wv, sr = librosa.load(audio)\n",
    "    # numpy array \n",
    "    waves.append(wv)\n",
    "\n",
    "from collections import Counter\n",
    "\n",
    "def find_duplicates(input_list):\n",
    "    array_counts = Counter(map(tuple, input_list))\n",
    "    return [list(arr) for arr, count in array_counts.items() if count > 1]\n",
    "\n",
    "duplicates = find_duplicates(waves)"
   ]
  },
  {
   "cell_type": "code",
   "execution_count": 29,
   "id": "a10106ef",
   "metadata": {},
   "outputs": [
    {
     "data": {
      "text/plain": [
       "1"
      ]
     },
     "execution_count": 29,
     "metadata": {},
     "output_type": "execute_result"
    }
   ],
   "source": [
    "len(duplicates)"
   ]
  }
 ],
 "metadata": {
  "kernelspec": {
   "display_name": "Python 3 (ipykernel)",
   "language": "python",
   "name": "python3"
  },
  "language_info": {
   "codemirror_mode": {
    "name": "ipython",
    "version": 3
   },
   "file_extension": ".py",
   "mimetype": "text/x-python",
   "name": "python",
   "nbconvert_exporter": "python",
   "pygments_lexer": "ipython3",
   "version": "3.10.9"
  }
 },
 "nbformat": 4,
 "nbformat_minor": 5
}
